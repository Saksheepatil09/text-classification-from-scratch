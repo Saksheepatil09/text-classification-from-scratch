{
 "cells": [
  {
   "cell_type": "code",
   "execution_count": 16,
   "id": "fb84b6f9-4068-450b-98bd-eb20608f96c5",
   "metadata": {},
   "outputs": [],
   "source": [
    "import os\n",
    "import pandas as pd\n",
    "import re\n"
   ]
  },
  {
   "cell_type": "code",
   "execution_count": 17,
   "id": "cfdef402-bba5-405d-bc73-c6bbd83ad6ff",
   "metadata": {},
   "outputs": [],
   "source": [
    "# Function to clean text\n",
    "def clean_text(text):\n",
    "    text = text.lower()\n",
    "    text = re.sub(r\"[^a-zA-Z0-9\\s]\", '', text)\n",
    "    return text\n",
    "\n",
    "# Define keywords for happy and sad labels\n",
    "happy_keywords = [\"good\", \"know\", \"im\", \"love\", \"like\", \"mean\", \"fine\", \"happy\", \"going\", \"get\", \"excited\", \"thats\", \"okay\", \"youre\", \"theyre\", \"right\", \"yeah\", \"spot\", \"thing\", \"hey\"]\n",
    "sad_keywords = ['sad', 'unhappy', 'miserable', 'hate', 'oh', 'help', 'sorrow', 'upset', 'depressed', 'downcast', 'gloomy', 'dont', 'cant']\n"
   ]
  },
  {
   "cell_type": "code",
   "execution_count": 18,
   "id": "0335e3ba-9f01-49c9-b064-5a468ea61473",
   "metadata": {},
   "outputs": [],
   "source": [
    "# Function to label texts based on keywords\n",
    "def label_text(text):\n",
    "    text_lower = clean_text(text)\n",
    "    happy_count = sum(keyword in text_lower for keyword in happy_keywords)\n",
    "    sad_count = sum(keyword in text_lower for keyword in sad_keywords)\n",
    "    \n",
    "    if happy_count > sad_count:\n",
    "        return 'happy'\n",
    "    elif sad_count > happy_count:\n",
    "        return 'sad'\n",
    "    else:\n",
    "        return 'neutral'\n",
    "\n",
    "# Path to the IEMOCAP dataset directory\n",
    "dataset_path = r\"C:\\Users\\SAKSHEE\\Downloads\\IEMOCAP_full_release\""
   ]
  },
  {
   "cell_type": "code",
   "execution_count": 20,
   "id": "79fc5e6c-d44f-40bf-8c21-817327fa30a6",
   "metadata": {},
   "outputs": [
    {
     "name": "stdout",
     "output_type": "stream",
     "text": [
      "label\n",
      "happy      5318\n",
      "neutral    4388\n",
      "sad         684\n",
      "Name: count, dtype: int64\n"
     ]
    }
   ],
   "source": [
    "# Lists to store data\n",
    "texts = []\n",
    "labels = []\n",
    "\n",
    "# Iterate over the dataset files\n",
    "for session in range(1, 6):\n",
    "    session_path = os.path.join(dataset_path, f'Session{session}', 'dialog', 'transcriptions')\n",
    "    for root, _, files in os.walk(session_path):\n",
    "        for file in files:\n",
    "            if file.endswith('.txt'):\n",
    "                with open(os.path.join(root, file), 'r') as f:\n",
    "                    for line in f:\n",
    "                        parts = line.strip().split(' ')\n",
    "                        text = ' '.join(parts[1:])\n",
    "                        label = label_text(text)\n",
    "                        texts.append(clean_text(text))\n",
    "                        labels.append(label)\n",
    "\n",
    "# Create a DataFrame\n",
    "df = pd.DataFrame({'text': texts, 'label': labels})\n",
    "\n",
    "# Save to CSV\n",
    "output_file_path = r\"C:\\Users\\SAKSHEE\\Downloads\\relabelled_data_combined.csv\"\n",
    "df.to_csv(output_file_path, index=False)\n",
    "\n",
    "# Show the distribution of the new labels\n",
    "label_distribution = df['label'].value_counts()\n",
    "print(label_distribution)"
   ]
  },
  {
   "cell_type": "code",
   "execution_count": null,
   "id": "7ee8beaa-6a43-4618-9d74-d9b656eb1dde",
   "metadata": {},
   "outputs": [],
   "source": []
  }
 ],
 "metadata": {
  "kernelspec": {
   "display_name": "Python 3 (ipykernel)",
   "language": "python",
   "name": "python3"
  },
  "language_info": {
   "codemirror_mode": {
    "name": "ipython",
    "version": 3
   },
   "file_extension": ".py",
   "mimetype": "text/x-python",
   "name": "python",
   "nbconvert_exporter": "python",
   "pygments_lexer": "ipython3",
   "version": "3.11.7"
  }
 },
 "nbformat": 4,
 "nbformat_minor": 5
}
